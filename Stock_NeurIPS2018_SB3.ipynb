{
 "cells": [
  {
   "cell_type": "markdown",
   "metadata": {
    "id": "yfv52r2G33jY"
   },
   "source": [
    "<a href=\"https://colab.research.google.com/github/AI4Finance-Foundation/FinRL/blob/master/Stock_NeurIPS2018.ipynb\" target=\"_parent\"><img src=\"https://colab.research.google.com/assets/colab-badge.svg\" alt=\"Open In Colab\"/></a>"
   ]
  },
  {
   "cell_type": "markdown",
   "metadata": {
    "id": "gXaoZs2lh1hi"
   },
   "source": [
    "# Deep Reinforcement Learning for Stock Trading from Scratch: Multiple Stock Trading\n",
    "\n",
    "* **Pytorch Version** \n",
    "\n"
   ]
  },
  {
   "cell_type": "markdown",
   "metadata": {
    "id": "lGunVt8oLCVS"
   },
   "source": [
    "# Content"
   ]
  },
  {
   "cell_type": "markdown",
   "metadata": {
    "id": "HOzAKQ-SLGX6"
   },
   "source": [
    "* [1. Task Description](#0)\n",
    "* [2. Install Python packages](#1)\n",
    "    * [2.1. Install Packages](#1.1)    \n",
    "    * [2.2. A List of Python Packages](#1.2)\n",
    "    * [2.3. Import Packages](#1.3)\n",
    "    * [2.4. Create Folders](#1.4)\n",
    "* [3. Download and Preprocess Data](#2)\n",
    "* [4. Preprocess Data](#3)        \n",
    "    * [4.1. Technical Indicators](#3.1)\n",
    "    * [4.2. Perform Feature Engineering](#3.2)\n",
    "* [5. Build Market Environment in OpenAI Gym-style](#4)  \n",
    "    * [5.1. Data Split](#4.1)  \n",
    "    * [5.3. Environment for Training](#4.2)    \n",
    "* [6. Train DRL Agents](#5)\n",
    "* [7. Backtesting Performance](#6)  \n",
    "    * [7.1. BackTestStats](#6.1)\n",
    "    * [7.2. BackTestPlot](#6.2)   \n",
    "  "
   ]
  },
  {
   "cell_type": "markdown",
   "metadata": {
    "id": "sApkDlD9LIZv"
   },
   "source": [
    "<a id='0'></a>\n",
    "# Part 1. Task Discription"
   ]
  },
  {
   "cell_type": "markdown",
   "metadata": {
    "id": "HjLD2TZSLKZ-"
   },
   "source": [
    "We train a DRL agent for stock trading. This task is modeled as a Markov Decision Process (MDP), and the objective function is maximizing (expected) cumulative return.\n",
    "\n",
    "We specify the state-action-reward as follows:\n",
    "\n",
    "* **State s**: The state space represents an agent's perception of the market environment. Just like a human trader analyzing various information, here our agent passively observes many features and learns by interacting with the market environment (usually by replaying historical data).\n",
    "\n",
    "* **Action a**: The action space includes allowed actions that an agent can take at each state. For example, a ∈ {−1, 0, 1}, where −1, 0, 1 represent\n",
    "selling, holding, and buying. When an action operates multiple shares, a ∈{−k, ..., −1, 0, 1, ..., k}, e.g.. \"Buy\n",
    "10 shares of AAPL\" or \"Sell 10 shares of AAPL\" are 10 or −10, respectively\n",
    "\n",
    "* **Reward function r(s, a, s′)**: Reward is an incentive for an agent to learn a better policy. For example, it can be the change of the portfolio value when taking a at state s and arriving at new state s',  i.e., r(s, a, s′) = v′ − v, where v′ and v represent the portfolio values at state s′ and s, respectively\n",
    "\n",
    "\n",
    "**Market environment**: 30 consituent stocks of Dow Jones Industrial Average (DJIA) index. Accessed at the starting date of the testing period.\n",
    "\n",
    "\n",
    "The data for this case study is obtained from Yahoo Finance API. The data contains Open-High-Low-Close price and volume.\n"
   ]
  },
  {
   "cell_type": "markdown",
   "metadata": {
    "id": "Ffsre789LY08"
   },
   "source": [
    "<a id='1'></a>\n",
    "# Part 2. Install Python Packages"
   ]
  },
  {
   "cell_type": "markdown",
   "metadata": {
    "id": "Uy5_PTmOh1hj"
   },
   "source": [
    "<a id='1.1'></a>\n",
    "## 2.1. Install packages\n"
   ]
  },
  {
   "cell_type": "code",
   "execution_count": 1,
   "metadata": {
    "id": "mPT0ipYE28wL",
    "colab": {
     "base_uri": "https://localhost:8080/"
    },
    "outputId": "02a8a804-d120-4388-a167-20a81cb33d87"
   },
   "outputs": [
    {
     "name": "stdout",
     "output_type": "stream",
     "text": [
      "^C\n"
     ]
    }
   ],
   "source": [
    "## install finrl library\n",
    "#!pip install git+https://github.com/AI4Finance-Foundation/FinRL.git"
   ]
  },
  {
   "cell_type": "markdown",
   "metadata": {
    "id": "osBHhVysOEzi"
   },
   "source": [
    "\n",
    "<a id='1.2'></a>\n",
    "## 2.2. A list of Python packages \n",
    "* Yahoo Finance API\n",
    "* pandas\n",
    "* numpy\n",
    "* matplotlib\n",
    "* stockstats\n",
    "* OpenAI gym\n",
    "* stable-baselines\n",
    "* tensorflow\n",
    "* pyfolio"
   ]
  },
  {
   "cell_type": "markdown",
   "metadata": {
    "id": "nGv01K8Sh1hn"
   },
   "source": [
    "<a id='1.3'></a>\n",
    "## 2.3. Import Packages"
   ]
  },
  {
   "cell_type": "code",
   "execution_count": 1,
   "metadata": {
    "id": "lPqeTTwoh1hn"
   },
   "outputs": [
    {
     "name": "stderr",
     "output_type": "stream",
     "text": [
      "C:\\Users\\LWRF4\\anaconda3\\envs\\RL\\lib\\site-packages\\pyfolio\\pos.py:26: UserWarning: Module \"zipline.assets\" not found; multipliers will not be applied to position notionals.\n",
      "  warnings.warn(\n"
     ]
    }
   ],
   "source": [
    "import pandas as pd\n",
    "import numpy as np\n",
    "import matplotlib\n",
    "import matplotlib.pyplot as plt\n",
    "# matplotlib.use('Agg')\n",
    "import datetime\n",
    "\n",
    "%matplotlib inline\n",
    "from finrl.meta.preprocessor.yahoodownloader import YahooDownloader\n",
    "from finrl.meta.preprocessor.preprocessors import FeatureEngineer, data_split\n",
    "from finrl.meta.env_stock_trading.env_stocktrading import StockTradingEnv\n",
    "from finrl.agents.stablebaselines3.models import DRLAgent\n",
    "from stable_baselines3.common.logger import configure\n",
    "from finrl.meta.data_processor import DataProcessor\n",
    "\n",
    "from finrl.plot import backtest_stats, backtest_plot, get_daily_return, get_baseline\n",
    "from pprint import pprint\n",
    "\n",
    "import sys\n",
    "sys.path.append(\"../FinRL\")\n",
    "\n",
    "import itertools"
   ]
  },
  {
   "cell_type": "markdown",
   "metadata": {
    "id": "T2owTj985RW4"
   },
   "source": [
    "<a id='1.4'></a>\n",
    "## 2.4. Create Folders"
   ]
  },
  {
   "cell_type": "code",
   "execution_count": 2,
   "metadata": {
    "id": "RtUc_ofKmpdy"
   },
   "outputs": [],
   "source": [
    "from finrl import config\n",
    "from finrl import config_tickers\n",
    "import os\n",
    "from finrl.main import check_and_make_directories\n",
    "from finrl.config import (\n",
    "    DATA_SAVE_DIR,\n",
    "    TRAINED_MODEL_DIR,\n",
    "    TENSORBOARD_LOG_DIR,\n",
    "    RESULTS_DIR,\n",
    "    INDICATORS,\n",
    "    TRAIN_START_DATE,\n",
    "    TRAIN_END_DATE,\n",
    "    TEST_START_DATE,\n",
    "    TEST_END_DATE,\n",
    "    TRADE_START_DATE,\n",
    "    TRADE_END_DATE,\n",
    ")\n",
    "check_and_make_directories([DATA_SAVE_DIR, TRAINED_MODEL_DIR, TENSORBOARD_LOG_DIR, RESULTS_DIR])\n",
    "\n"
   ]
  },
  {
   "cell_type": "markdown",
   "metadata": {
    "id": "A289rQWMh1hq"
   },
   "source": [
    "<a id='2'></a>\n",
    "# Part 3. Download Data\n",
    "Yahoo Finance provides stock data, financial news, financial reports, etc. Yahoo Finance is free.\n",
    "* FinRL uses a class **YahooDownloader** in FinRL-Meta to fetch data via Yahoo Finance API\n",
    "* Call Limit: Using the Public API (without authentication), you are limited to 2,000 requests per hour per IP (or up to a total of 48,000 requests a day)."
   ]
  },
  {
   "cell_type": "markdown",
   "metadata": {
    "id": "NPeQ7iS-LoMm"
   },
   "source": [
    "\n",
    "\n",
    "-----\n",
    "class YahooDownloader:\n",
    "    Retrieving daily stock data from\n",
    "    Yahoo Finance API\n",
    "\n",
    "    Attributes\n",
    "    ----------\n",
    "        start_date : str\n",
    "            start date of the data (modified from config.py)\n",
    "        end_date : str\n",
    "            end date of the data (modified from config.py)\n",
    "        ticker_list : list\n",
    "            a list of stock tickers (modified from config.py)\n",
    "\n",
    "    Methods\n",
    "    -------\n",
    "    fetch_data()\n"
   ]
  },
  {
   "cell_type": "code",
   "execution_count": 3,
   "metadata": {
    "colab": {
     "base_uri": "https://localhost:8080/",
     "height": 35
    },
    "id": "h3XJnvrbLp-C",
    "outputId": "3c4dda81-f617-4e9b-f88c-edb502d1500c"
   },
   "outputs": [
    {
     "data": {
      "text/plain": "'2020-07-31'"
     },
     "execution_count": 3,
     "metadata": {},
     "output_type": "execute_result"
    }
   ],
   "source": [
    "# from config.py, TRAIN_START_DATE is a string\n",
    "TRAIN_START_DATE\n",
    "# from config.py, TRAIN_END_DATE is a string\n",
    "TRAIN_END_DATE"
   ]
  },
  {
   "cell_type": "code",
   "execution_count": 4,
   "metadata": {
    "id": "FUnY8WEfLq3C"
   },
   "outputs": [],
   "source": [
    "TRAIN_START_DATE = '2009-01-01'\n",
    "TRAIN_END_DATE = '2020-07-01'\n",
    "TRADE_START_DATE = '2020-07-01'\n",
    "TRADE_END_DATE = '2021-10-31'\n"
   ]
  },
  {
   "cell_type": "code",
   "execution_count": 5,
   "metadata": {
    "colab": {
     "base_uri": "https://localhost:8080/"
    },
    "id": "yCKm4om-s9kE",
    "outputId": "24dbccc1-190c-4912-b67a-9fe8fd9afbf2"
   },
   "outputs": [
    {
     "name": "stdout",
     "output_type": "stream",
     "text": [
      "[*********************100%***********************]  1 of 1 completed\n",
      "[*********************100%***********************]  1 of 1 completed\n",
      "[*********************100%***********************]  1 of 1 completed\n",
      "[*********************100%***********************]  1 of 1 completed\n",
      "[*********************100%***********************]  1 of 1 completed\n",
      "[*********************100%***********************]  1 of 1 completed\n",
      "[*********************100%***********************]  1 of 1 completed\n",
      "[*********************100%***********************]  1 of 1 completed\n",
      "[*********************100%***********************]  1 of 1 completed\n",
      "[*********************100%***********************]  1 of 1 completed\n",
      "[*********************100%***********************]  1 of 1 completed\n",
      "[*********************100%***********************]  1 of 1 completed\n",
      "[*********************100%***********************]  1 of 1 completed\n",
      "[*********************100%***********************]  1 of 1 completed\n",
      "[*********************100%***********************]  1 of 1 completed\n",
      "[*********************100%***********************]  1 of 1 completed\n",
      "[*********************100%***********************]  1 of 1 completed\n",
      "[*********************100%***********************]  1 of 1 completed\n",
      "\n",
      "1 Failed download:\n",
      "- MRK: No data found for this date range, symbol may be delisted\n",
      "[*********************100%***********************]  1 of 1 completed\n",
      "[*********************100%***********************]  1 of 1 completed\n",
      "[*********************100%***********************]  1 of 1 completed\n",
      "[*********************100%***********************]  1 of 1 completed\n",
      "\n",
      "1 Failed download:\n",
      "- TRV: No data found for this date range, symbol may be delisted\n",
      "[*********************100%***********************]  1 of 1 completed\n",
      "[*********************100%***********************]  1 of 1 completed\n",
      "[*********************100%***********************]  1 of 1 completed\n",
      "[*********************100%***********************]  1 of 1 completed\n",
      "\n",
      "1 Failed download:\n",
      "- V: No data found for this date range, symbol may be delisted\n",
      "[*********************100%***********************]  1 of 1 completed\n",
      "[*********************100%***********************]  1 of 1 completed\n",
      "[*********************100%***********************]  1 of 1 completed\n",
      "[*********************100%***********************]  1 of 1 completed\n",
      "Shape of DataFrame:  (84641, 8)\n"
     ]
    }
   ],
   "source": [
    "df = YahooDownloader(start_date = TRAIN_START_DATE,\n",
    "                     end_date = TRADE_END_DATE,\n",
    "                     ticker_list = config_tickers.DOW_30_TICKER).fetch_data()"
   ]
  },
  {
   "cell_type": "code",
   "execution_count": 6,
   "metadata": {
    "colab": {
     "base_uri": "https://localhost:8080/"
    },
    "id": "JzqRRTOX6aFu",
    "outputId": "85539f72-49fe-4418-9a75-5fa715cbfac9"
   },
   "outputs": [
    {
     "name": "stdout",
     "output_type": "stream",
     "text": [
      "['AXP', 'AMGN', 'AAPL', 'BA', 'CAT', 'CSCO', 'CVX', 'GS', 'HD', 'HON', 'IBM', 'INTC', 'JNJ', 'KO', 'JPM', 'MCD', 'MMM', 'MRK', 'MSFT', 'NKE', 'PG', 'TRV', 'UNH', 'CRM', 'VZ', 'V', 'WBA', 'WMT', 'DIS', 'DOW']\n"
     ]
    }
   ],
   "source": [
    "print(config_tickers.DOW_30_TICKER)"
   ]
  },
  {
   "cell_type": "code",
   "execution_count": 7,
   "metadata": {
    "colab": {
     "base_uri": "https://localhost:8080/"
    },
    "id": "CV3HrZHLh1hy",
    "outputId": "f1031e65-9b05-4fb4-9128-3b7babd894c5"
   },
   "outputs": [
    {
     "data": {
      "text/plain": "(84641, 8)"
     },
     "execution_count": 7,
     "metadata": {},
     "output_type": "execute_result"
    }
   ],
   "source": [
    "df.shape"
   ]
  },
  {
   "cell_type": "code",
   "execution_count": 8,
   "metadata": {
    "colab": {
     "base_uri": "https://localhost:8080/",
     "height": 206
    },
    "id": "4hYkeaPiICHS",
    "outputId": "95d13d1e-3c8d-441e-835e-b9c7c121fd9f"
   },
   "outputs": [
    {
     "data": {
      "text/plain": "         date       open       high        low      close       volume   tic  \\\n0  2009-01-02   3.067143   3.251429   3.041429   2.758536  746015200.0  AAPL   \n1  2009-01-02  58.590000  59.080002  57.750000  43.832630    6547900.0  AMGN   \n2  2009-01-02  18.570000  19.520000  18.400000  15.365304   10955700.0   AXP   \n3  2009-01-02  42.799999  45.560001  42.779999  33.941105    7010200.0    BA   \n4  2009-01-02  44.910000  46.980000  44.709999  31.579353    7117200.0   CAT   \n\n   day  \n0    4  \n1    4  \n2    4  \n3    4  \n4    4  ",
      "text/html": "<div>\n<style scoped>\n    .dataframe tbody tr th:only-of-type {\n        vertical-align: middle;\n    }\n\n    .dataframe tbody tr th {\n        vertical-align: top;\n    }\n\n    .dataframe thead th {\n        text-align: right;\n    }\n</style>\n<table border=\"1\" class=\"dataframe\">\n  <thead>\n    <tr style=\"text-align: right;\">\n      <th></th>\n      <th>date</th>\n      <th>open</th>\n      <th>high</th>\n      <th>low</th>\n      <th>close</th>\n      <th>volume</th>\n      <th>tic</th>\n      <th>day</th>\n    </tr>\n  </thead>\n  <tbody>\n    <tr>\n      <th>0</th>\n      <td>2009-01-02</td>\n      <td>3.067143</td>\n      <td>3.251429</td>\n      <td>3.041429</td>\n      <td>2.758536</td>\n      <td>746015200.0</td>\n      <td>AAPL</td>\n      <td>4</td>\n    </tr>\n    <tr>\n      <th>1</th>\n      <td>2009-01-02</td>\n      <td>58.590000</td>\n      <td>59.080002</td>\n      <td>57.750000</td>\n      <td>43.832630</td>\n      <td>6547900.0</td>\n      <td>AMGN</td>\n      <td>4</td>\n    </tr>\n    <tr>\n      <th>2</th>\n      <td>2009-01-02</td>\n      <td>18.570000</td>\n      <td>19.520000</td>\n      <td>18.400000</td>\n      <td>15.365304</td>\n      <td>10955700.0</td>\n      <td>AXP</td>\n      <td>4</td>\n    </tr>\n    <tr>\n      <th>3</th>\n      <td>2009-01-02</td>\n      <td>42.799999</td>\n      <td>45.560001</td>\n      <td>42.779999</td>\n      <td>33.941105</td>\n      <td>7010200.0</td>\n      <td>BA</td>\n      <td>4</td>\n    </tr>\n    <tr>\n      <th>4</th>\n      <td>2009-01-02</td>\n      <td>44.910000</td>\n      <td>46.980000</td>\n      <td>44.709999</td>\n      <td>31.579353</td>\n      <td>7117200.0</td>\n      <td>CAT</td>\n      <td>4</td>\n    </tr>\n  </tbody>\n</table>\n</div>"
     },
     "execution_count": 8,
     "metadata": {},
     "output_type": "execute_result"
    }
   ],
   "source": [
    "df.sort_values(['date','tic'],ignore_index=True).head()"
   ]
  },
  {
   "cell_type": "markdown",
   "metadata": {
    "id": "uqC6c40Zh1iH"
   },
   "source": [
    "# Part 4: Preprocess Data\n",
    "We need to check for missing data and do feature engineering to convert the data point into a state.\n",
    "* **Adding technical indicators**. In practical trading, various information needs to be taken into account, such as historical prices, current holding shares, technical indicators, etc. Here, we demonstrate two trend-following technical indicators: MACD and RSI.\n",
    "* **Adding turbulence index**. Risk-aversion reflects whether an investor prefers to protect the capital. It also influences one's trading strategy when facing different market volatility level. To control the risk in a worst-case scenario, such as financial crisis of 2007–2008, FinRL employs the turbulence index that measures extreme fluctuation of asset price."
   ]
  },
  {
   "cell_type": "code",
   "execution_count": 9,
   "metadata": {
    "colab": {
     "base_uri": "https://localhost:8080/"
    },
    "id": "PmKP-1ii3RLS",
    "outputId": "9b9facc1-f877-4caa-b66b-a2ce0e023de8"
   },
   "outputs": [
    {
     "name": "stdout",
     "output_type": "stream",
     "text": [
      "Successfully added technical indicators\n",
      "[*********************100%***********************]  1 of 1 completed\n",
      "Shape of DataFrame:  (3229, 8)\n",
      "Successfully added vix\n",
      "Successfully added turbulence index\n"
     ]
    }
   ],
   "source": [
    "fe = FeatureEngineer(\n",
    "                    use_technical_indicator=True,\n",
    "                    tech_indicator_list = INDICATORS,\n",
    "                    use_vix=True,\n",
    "                    use_turbulence=True,\n",
    "                    user_defined_feature = False)\n",
    "\n",
    "processed = fe.preprocess_data(df)"
   ]
  },
  {
   "cell_type": "code",
   "execution_count": 10,
   "metadata": {
    "id": "Kixon2tR3RLT"
   },
   "outputs": [],
   "source": [
    "list_ticker = processed[\"tic\"].unique().tolist()\n",
    "list_date = list(pd.date_range(processed['date'].min(),processed['date'].max()).astype(str))\n",
    "combination = list(itertools.product(list_date,list_ticker))\n",
    "\n",
    "processed_full = pd.DataFrame(combination,columns=[\"date\",\"tic\"]).merge(processed,on=[\"date\",\"tic\"],how=\"left\")\n",
    "processed_full = processed_full[processed_full['date'].isin(processed['date'])]\n",
    "processed_full = processed_full.sort_values(['date','tic'])\n",
    "\n",
    "processed_full = processed_full.fillna(0)"
   ]
  },
  {
   "cell_type": "code",
   "execution_count": 11,
   "metadata": {
    "colab": {
     "base_uri": "https://localhost:8080/",
     "height": 407
    },
    "id": "grvhGJJII3Xn",
    "outputId": "8e48188a-d58d-4d2c-dbed-fecacb74984e"
   },
   "outputs": [
    {
     "data": {
      "text/plain": "         date   tic       open       high        low      close       volume  \\\n0  2009-01-02  AAPL   3.067143   3.251429   3.041429   2.758536  746015200.0   \n1  2009-01-02  AMGN  58.590000  59.080002  57.750000  43.832630    6547900.0   \n2  2009-01-02   AXP  18.570000  19.520000  18.400000  15.365304   10955700.0   \n3  2009-01-02    BA  42.799999  45.560001  42.779999  33.941105    7010200.0   \n4  2009-01-02   CAT  44.910000  46.980000  44.709999  31.579353    7117200.0   \n5  2009-01-02   CRM   8.025000   8.550000   7.912500   8.505000    4069200.0   \n6  2009-01-02  CSCO  16.410000  17.000000  16.250000  11.948337   40980600.0   \n7  2009-01-02   CVX  74.230003  77.300003  73.580002  43.677189   13695900.0   \n8  2009-01-02   DIS  22.760000  24.030001  22.500000  20.597498    9796600.0   \n9  2009-01-02    GS  84.019997  87.620003  82.190002  69.747612   14088500.0   \n\n   day  macd   boll_ub   boll_lb  rsi_30     cci_30  dx_30  close_30_sma  \\\n0  4.0   0.0  2.981389  2.652103   100.0  66.666667  100.0      2.758536   \n1  4.0   0.0  2.981389  2.652103   100.0  66.666667  100.0     43.832630   \n2  4.0   0.0  2.981389  2.652103   100.0  66.666667  100.0     15.365304   \n3  4.0   0.0  2.981389  2.652103   100.0  66.666667  100.0     33.941105   \n4  4.0   0.0  2.981389  2.652103   100.0  66.666667  100.0     31.579353   \n5  4.0   0.0  2.981389  2.652103   100.0  66.666667  100.0      8.505000   \n6  4.0   0.0  2.981389  2.652103   100.0  66.666667  100.0     11.948337   \n7  4.0   0.0  2.981389  2.652103   100.0  66.666667  100.0     43.677189   \n8  4.0   0.0  2.981389  2.652103   100.0  66.666667  100.0     20.597498   \n9  4.0   0.0  2.981389  2.652103   100.0  66.666667  100.0     69.747612   \n\n   close_60_sma        vix  turbulence  \n0      2.758536  39.189999         0.0  \n1     43.832630  39.189999         0.0  \n2     15.365304  39.189999         0.0  \n3     33.941105  39.189999         0.0  \n4     31.579353  39.189999         0.0  \n5      8.505000  39.189999         0.0  \n6     11.948337  39.189999         0.0  \n7     43.677189  39.189999         0.0  \n8     20.597498  39.189999         0.0  \n9     69.747612  39.189999         0.0  ",
      "text/html": "<div>\n<style scoped>\n    .dataframe tbody tr th:only-of-type {\n        vertical-align: middle;\n    }\n\n    .dataframe tbody tr th {\n        vertical-align: top;\n    }\n\n    .dataframe thead th {\n        text-align: right;\n    }\n</style>\n<table border=\"1\" class=\"dataframe\">\n  <thead>\n    <tr style=\"text-align: right;\">\n      <th></th>\n      <th>date</th>\n      <th>tic</th>\n      <th>open</th>\n      <th>high</th>\n      <th>low</th>\n      <th>close</th>\n      <th>volume</th>\n      <th>day</th>\n      <th>macd</th>\n      <th>boll_ub</th>\n      <th>boll_lb</th>\n      <th>rsi_30</th>\n      <th>cci_30</th>\n      <th>dx_30</th>\n      <th>close_30_sma</th>\n      <th>close_60_sma</th>\n      <th>vix</th>\n      <th>turbulence</th>\n    </tr>\n  </thead>\n  <tbody>\n    <tr>\n      <th>0</th>\n      <td>2009-01-02</td>\n      <td>AAPL</td>\n      <td>3.067143</td>\n      <td>3.251429</td>\n      <td>3.041429</td>\n      <td>2.758536</td>\n      <td>746015200.0</td>\n      <td>4.0</td>\n      <td>0.0</td>\n      <td>2.981389</td>\n      <td>2.652103</td>\n      <td>100.0</td>\n      <td>66.666667</td>\n      <td>100.0</td>\n      <td>2.758536</td>\n      <td>2.758536</td>\n      <td>39.189999</td>\n      <td>0.0</td>\n    </tr>\n    <tr>\n      <th>1</th>\n      <td>2009-01-02</td>\n      <td>AMGN</td>\n      <td>58.590000</td>\n      <td>59.080002</td>\n      <td>57.750000</td>\n      <td>43.832630</td>\n      <td>6547900.0</td>\n      <td>4.0</td>\n      <td>0.0</td>\n      <td>2.981389</td>\n      <td>2.652103</td>\n      <td>100.0</td>\n      <td>66.666667</td>\n      <td>100.0</td>\n      <td>43.832630</td>\n      <td>43.832630</td>\n      <td>39.189999</td>\n      <td>0.0</td>\n    </tr>\n    <tr>\n      <th>2</th>\n      <td>2009-01-02</td>\n      <td>AXP</td>\n      <td>18.570000</td>\n      <td>19.520000</td>\n      <td>18.400000</td>\n      <td>15.365304</td>\n      <td>10955700.0</td>\n      <td>4.0</td>\n      <td>0.0</td>\n      <td>2.981389</td>\n      <td>2.652103</td>\n      <td>100.0</td>\n      <td>66.666667</td>\n      <td>100.0</td>\n      <td>15.365304</td>\n      <td>15.365304</td>\n      <td>39.189999</td>\n      <td>0.0</td>\n    </tr>\n    <tr>\n      <th>3</th>\n      <td>2009-01-02</td>\n      <td>BA</td>\n      <td>42.799999</td>\n      <td>45.560001</td>\n      <td>42.779999</td>\n      <td>33.941105</td>\n      <td>7010200.0</td>\n      <td>4.0</td>\n      <td>0.0</td>\n      <td>2.981389</td>\n      <td>2.652103</td>\n      <td>100.0</td>\n      <td>66.666667</td>\n      <td>100.0</td>\n      <td>33.941105</td>\n      <td>33.941105</td>\n      <td>39.189999</td>\n      <td>0.0</td>\n    </tr>\n    <tr>\n      <th>4</th>\n      <td>2009-01-02</td>\n      <td>CAT</td>\n      <td>44.910000</td>\n      <td>46.980000</td>\n      <td>44.709999</td>\n      <td>31.579353</td>\n      <td>7117200.0</td>\n      <td>4.0</td>\n      <td>0.0</td>\n      <td>2.981389</td>\n      <td>2.652103</td>\n      <td>100.0</td>\n      <td>66.666667</td>\n      <td>100.0</td>\n      <td>31.579353</td>\n      <td>31.579353</td>\n      <td>39.189999</td>\n      <td>0.0</td>\n    </tr>\n    <tr>\n      <th>5</th>\n      <td>2009-01-02</td>\n      <td>CRM</td>\n      <td>8.025000</td>\n      <td>8.550000</td>\n      <td>7.912500</td>\n      <td>8.505000</td>\n      <td>4069200.0</td>\n      <td>4.0</td>\n      <td>0.0</td>\n      <td>2.981389</td>\n      <td>2.652103</td>\n      <td>100.0</td>\n      <td>66.666667</td>\n      <td>100.0</td>\n      <td>8.505000</td>\n      <td>8.505000</td>\n      <td>39.189999</td>\n      <td>0.0</td>\n    </tr>\n    <tr>\n      <th>6</th>\n      <td>2009-01-02</td>\n      <td>CSCO</td>\n      <td>16.410000</td>\n      <td>17.000000</td>\n      <td>16.250000</td>\n      <td>11.948337</td>\n      <td>40980600.0</td>\n      <td>4.0</td>\n      <td>0.0</td>\n      <td>2.981389</td>\n      <td>2.652103</td>\n      <td>100.0</td>\n      <td>66.666667</td>\n      <td>100.0</td>\n      <td>11.948337</td>\n      <td>11.948337</td>\n      <td>39.189999</td>\n      <td>0.0</td>\n    </tr>\n    <tr>\n      <th>7</th>\n      <td>2009-01-02</td>\n      <td>CVX</td>\n      <td>74.230003</td>\n      <td>77.300003</td>\n      <td>73.580002</td>\n      <td>43.677189</td>\n      <td>13695900.0</td>\n      <td>4.0</td>\n      <td>0.0</td>\n      <td>2.981389</td>\n      <td>2.652103</td>\n      <td>100.0</td>\n      <td>66.666667</td>\n      <td>100.0</td>\n      <td>43.677189</td>\n      <td>43.677189</td>\n      <td>39.189999</td>\n      <td>0.0</td>\n    </tr>\n    <tr>\n      <th>8</th>\n      <td>2009-01-02</td>\n      <td>DIS</td>\n      <td>22.760000</td>\n      <td>24.030001</td>\n      <td>22.500000</td>\n      <td>20.597498</td>\n      <td>9796600.0</td>\n      <td>4.0</td>\n      <td>0.0</td>\n      <td>2.981389</td>\n      <td>2.652103</td>\n      <td>100.0</td>\n      <td>66.666667</td>\n      <td>100.0</td>\n      <td>20.597498</td>\n      <td>20.597498</td>\n      <td>39.189999</td>\n      <td>0.0</td>\n    </tr>\n    <tr>\n      <th>9</th>\n      <td>2009-01-02</td>\n      <td>GS</td>\n      <td>84.019997</td>\n      <td>87.620003</td>\n      <td>82.190002</td>\n      <td>69.747612</td>\n      <td>14088500.0</td>\n      <td>4.0</td>\n      <td>0.0</td>\n      <td>2.981389</td>\n      <td>2.652103</td>\n      <td>100.0</td>\n      <td>66.666667</td>\n      <td>100.0</td>\n      <td>69.747612</td>\n      <td>69.747612</td>\n      <td>39.189999</td>\n      <td>0.0</td>\n    </tr>\n  </tbody>\n</table>\n</div>"
     },
     "execution_count": 11,
     "metadata": {},
     "output_type": "execute_result"
    }
   ],
   "source": [
    "processed_full.sort_values(['date','tic'],ignore_index=True).head(10)"
   ]
  },
  {
   "cell_type": "markdown",
   "metadata": {
    "id": "-QsYaY0Dh1iw"
   },
   "source": [
    "<a id='4'></a>\n",
    "# Part 5. Build A Market Environment in OpenAI Gym-style\n",
    "The training process involves observing stock price change, taking an action and reward's calculation. By interacting with the market environment, the agent will eventually derive a trading strategy that may maximize (expected) rewards.\n",
    "\n",
    "Our market environment, based on OpenAI Gym, simulates stock markets with historical market data."
   ]
  },
  {
   "cell_type": "markdown",
   "metadata": {
    "id": "5TOhcryx44bb"
   },
   "source": [
    "## Data Split\n",
    "We split the data into training set and testing set as follows:\n",
    "\n",
    "Training data period: 2009-01-01 to 2020-07-01\n",
    "\n",
    "Trading data period: 2020-07-01 to 2021-10-31\n"
   ]
  },
  {
   "cell_type": "code",
   "execution_count": 12,
   "metadata": {
    "colab": {
     "base_uri": "https://localhost:8080/"
    },
    "id": "W0qaVGjLtgbI",
    "outputId": "ac9f2699-65c6-418f-cca4-f0f166973f65"
   },
   "outputs": [
    {
     "name": "stdout",
     "output_type": "stream",
     "text": [
      "75218\n",
      "8736\n"
     ]
    }
   ],
   "source": [
    "train = data_split(processed_full, TRAIN_START_DATE,TRAIN_END_DATE)\n",
    "trade = data_split(processed_full, TRADE_START_DATE,TRADE_END_DATE)\n",
    "print(len(train))\n",
    "print(len(trade))"
   ]
  },
  {
   "cell_type": "code",
   "execution_count": 13,
   "metadata": {
    "colab": {
     "base_uri": "https://localhost:8080/",
     "height": 357
    },
    "id": "p52zNCOhTtLR",
    "outputId": "14568787-e92d-4d9b-dbce-9e11b3fb1390"
   },
   "outputs": [
    {
     "data": {
      "text/plain": "            date  tic        open        high         low       close  \\\n2892  2020-06-30   PG  117.970001  119.989998  117.800003  111.771385   \n2892  2020-06-30  UNH  288.570007  296.450012  287.660004  284.978729   \n2892  2020-06-30   VZ   54.919998   55.290001   54.360001   48.169018   \n2892  2020-06-30  WBA   42.119999   42.580002   41.759998   37.630489   \n2892  2020-06-30  WMT  119.220001  120.129997  118.540001  115.184006   \n\n          volume  day      macd     boll_ub     boll_lb     rsi_30     cci_30  \\\n2892   7818000.0  1.0  0.452360  112.450770  107.652953  53.098540  93.818766   \n2892   2932900.0  1.0 -0.019289  300.970831  268.613870  52.413042 -25.914908   \n2892  17414800.0  1.0 -0.417954   51.555480   46.593791  48.097060 -51.186566   \n2892   4782100.0  1.0 -0.080962   41.075407   35.173594  48.830198 -14.613059   \n2892   6836400.0  1.0 -0.879410  118.508925  112.593779  48.159671 -69.964751   \n\n         dx_30  close_30_sma  close_60_sma    vix  turbulence  \n2892  1.020253    108.987618    109.031926  30.43   12.189635  \n2892  1.846804    285.220267    278.269268  30.43   12.189635  \n2892  8.508886     48.776546     49.209270  30.43   12.189635  \n2892  1.500723     37.726358     37.533500  30.43   12.189635  \n2892  3.847271    116.836410    118.756425  30.43   12.189635  ",
      "text/html": "<div>\n<style scoped>\n    .dataframe tbody tr th:only-of-type {\n        vertical-align: middle;\n    }\n\n    .dataframe tbody tr th {\n        vertical-align: top;\n    }\n\n    .dataframe thead th {\n        text-align: right;\n    }\n</style>\n<table border=\"1\" class=\"dataframe\">\n  <thead>\n    <tr style=\"text-align: right;\">\n      <th></th>\n      <th>date</th>\n      <th>tic</th>\n      <th>open</th>\n      <th>high</th>\n      <th>low</th>\n      <th>close</th>\n      <th>volume</th>\n      <th>day</th>\n      <th>macd</th>\n      <th>boll_ub</th>\n      <th>boll_lb</th>\n      <th>rsi_30</th>\n      <th>cci_30</th>\n      <th>dx_30</th>\n      <th>close_30_sma</th>\n      <th>close_60_sma</th>\n      <th>vix</th>\n      <th>turbulence</th>\n    </tr>\n  </thead>\n  <tbody>\n    <tr>\n      <th>2892</th>\n      <td>2020-06-30</td>\n      <td>PG</td>\n      <td>117.970001</td>\n      <td>119.989998</td>\n      <td>117.800003</td>\n      <td>111.771385</td>\n      <td>7818000.0</td>\n      <td>1.0</td>\n      <td>0.452360</td>\n      <td>112.450770</td>\n      <td>107.652953</td>\n      <td>53.098540</td>\n      <td>93.818766</td>\n      <td>1.020253</td>\n      <td>108.987618</td>\n      <td>109.031926</td>\n      <td>30.43</td>\n      <td>12.189635</td>\n    </tr>\n    <tr>\n      <th>2892</th>\n      <td>2020-06-30</td>\n      <td>UNH</td>\n      <td>288.570007</td>\n      <td>296.450012</td>\n      <td>287.660004</td>\n      <td>284.978729</td>\n      <td>2932900.0</td>\n      <td>1.0</td>\n      <td>-0.019289</td>\n      <td>300.970831</td>\n      <td>268.613870</td>\n      <td>52.413042</td>\n      <td>-25.914908</td>\n      <td>1.846804</td>\n      <td>285.220267</td>\n      <td>278.269268</td>\n      <td>30.43</td>\n      <td>12.189635</td>\n    </tr>\n    <tr>\n      <th>2892</th>\n      <td>2020-06-30</td>\n      <td>VZ</td>\n      <td>54.919998</td>\n      <td>55.290001</td>\n      <td>54.360001</td>\n      <td>48.169018</td>\n      <td>17414800.0</td>\n      <td>1.0</td>\n      <td>-0.417954</td>\n      <td>51.555480</td>\n      <td>46.593791</td>\n      <td>48.097060</td>\n      <td>-51.186566</td>\n      <td>8.508886</td>\n      <td>48.776546</td>\n      <td>49.209270</td>\n      <td>30.43</td>\n      <td>12.189635</td>\n    </tr>\n    <tr>\n      <th>2892</th>\n      <td>2020-06-30</td>\n      <td>WBA</td>\n      <td>42.119999</td>\n      <td>42.580002</td>\n      <td>41.759998</td>\n      <td>37.630489</td>\n      <td>4782100.0</td>\n      <td>1.0</td>\n      <td>-0.080962</td>\n      <td>41.075407</td>\n      <td>35.173594</td>\n      <td>48.830198</td>\n      <td>-14.613059</td>\n      <td>1.500723</td>\n      <td>37.726358</td>\n      <td>37.533500</td>\n      <td>30.43</td>\n      <td>12.189635</td>\n    </tr>\n    <tr>\n      <th>2892</th>\n      <td>2020-06-30</td>\n      <td>WMT</td>\n      <td>119.220001</td>\n      <td>120.129997</td>\n      <td>118.540001</td>\n      <td>115.184006</td>\n      <td>6836400.0</td>\n      <td>1.0</td>\n      <td>-0.879410</td>\n      <td>118.508925</td>\n      <td>112.593779</td>\n      <td>48.159671</td>\n      <td>-69.964751</td>\n      <td>3.847271</td>\n      <td>116.836410</td>\n      <td>118.756425</td>\n      <td>30.43</td>\n      <td>12.189635</td>\n    </tr>\n  </tbody>\n</table>\n</div>"
     },
     "execution_count": 13,
     "metadata": {},
     "output_type": "execute_result"
    }
   ],
   "source": [
    "train.tail()"
   ]
  },
  {
   "cell_type": "code",
   "execution_count": 14,
   "metadata": {
    "colab": {
     "base_uri": "https://localhost:8080/",
     "height": 357
    },
    "id": "k9zU9YaTTvFq",
    "outputId": "80e64947-4c5c-428f-a98c-6b344d816783"
   },
   "outputs": [
    {
     "data": {
      "text/plain": "         date   tic        open        high         low       close  \\\n0  2020-07-01  AAPL   91.279999   91.839996   90.977501   89.494568   \n0  2020-07-01  AMGN  235.520004  256.230011  232.580002  234.614349   \n0  2020-07-01   AXP   95.250000   96.959999   93.639999   91.078461   \n0  2020-07-01    BA  185.880005  190.610001  180.039993  180.320007   \n0  2020-07-01   CAT  129.380005  129.399994  125.879997  118.455788   \n\n        volume  day      macd     boll_ub     boll_lb     rsi_30      cci_30  \\\n0  110737200.0  2.0  3.000857   92.276544   79.814261  62.807145  107.499050   \n0    6575800.0  2.0  3.552512  227.036716  195.594633  61.279639  270.849264   \n0    3301000.0  2.0 -0.384903  109.215320   86.798780  48.504814  -66.306182   \n0   49036700.0  2.0  5.443193  220.721139  160.932863  50.925771   24.220608   \n0    2807800.0  2.0  1.249468  128.246940  111.290111  52.865414   35.692941   \n\n       dx_30  close_30_sma  close_60_sma        vix  turbulence  \n0  29.730532     83.550961     77.363088  28.620001   52.542539  \n0  46.806139    209.902520    210.950771  28.620001   52.542539  \n0   3.142448     96.180264     89.702834  28.620001   52.542539  \n0  15.932920    176.472335    155.614168  28.620001   52.542539  \n0  14.457404    117.239538    111.578320  28.620001   52.542539  ",
      "text/html": "<div>\n<style scoped>\n    .dataframe tbody tr th:only-of-type {\n        vertical-align: middle;\n    }\n\n    .dataframe tbody tr th {\n        vertical-align: top;\n    }\n\n    .dataframe thead th {\n        text-align: right;\n    }\n</style>\n<table border=\"1\" class=\"dataframe\">\n  <thead>\n    <tr style=\"text-align: right;\">\n      <th></th>\n      <th>date</th>\n      <th>tic</th>\n      <th>open</th>\n      <th>high</th>\n      <th>low</th>\n      <th>close</th>\n      <th>volume</th>\n      <th>day</th>\n      <th>macd</th>\n      <th>boll_ub</th>\n      <th>boll_lb</th>\n      <th>rsi_30</th>\n      <th>cci_30</th>\n      <th>dx_30</th>\n      <th>close_30_sma</th>\n      <th>close_60_sma</th>\n      <th>vix</th>\n      <th>turbulence</th>\n    </tr>\n  </thead>\n  <tbody>\n    <tr>\n      <th>0</th>\n      <td>2020-07-01</td>\n      <td>AAPL</td>\n      <td>91.279999</td>\n      <td>91.839996</td>\n      <td>90.977501</td>\n      <td>89.494568</td>\n      <td>110737200.0</td>\n      <td>2.0</td>\n      <td>3.000857</td>\n      <td>92.276544</td>\n      <td>79.814261</td>\n      <td>62.807145</td>\n      <td>107.499050</td>\n      <td>29.730532</td>\n      <td>83.550961</td>\n      <td>77.363088</td>\n      <td>28.620001</td>\n      <td>52.542539</td>\n    </tr>\n    <tr>\n      <th>0</th>\n      <td>2020-07-01</td>\n      <td>AMGN</td>\n      <td>235.520004</td>\n      <td>256.230011</td>\n      <td>232.580002</td>\n      <td>234.614349</td>\n      <td>6575800.0</td>\n      <td>2.0</td>\n      <td>3.552512</td>\n      <td>227.036716</td>\n      <td>195.594633</td>\n      <td>61.279639</td>\n      <td>270.849264</td>\n      <td>46.806139</td>\n      <td>209.902520</td>\n      <td>210.950771</td>\n      <td>28.620001</td>\n      <td>52.542539</td>\n    </tr>\n    <tr>\n      <th>0</th>\n      <td>2020-07-01</td>\n      <td>AXP</td>\n      <td>95.250000</td>\n      <td>96.959999</td>\n      <td>93.639999</td>\n      <td>91.078461</td>\n      <td>3301000.0</td>\n      <td>2.0</td>\n      <td>-0.384903</td>\n      <td>109.215320</td>\n      <td>86.798780</td>\n      <td>48.504814</td>\n      <td>-66.306182</td>\n      <td>3.142448</td>\n      <td>96.180264</td>\n      <td>89.702834</td>\n      <td>28.620001</td>\n      <td>52.542539</td>\n    </tr>\n    <tr>\n      <th>0</th>\n      <td>2020-07-01</td>\n      <td>BA</td>\n      <td>185.880005</td>\n      <td>190.610001</td>\n      <td>180.039993</td>\n      <td>180.320007</td>\n      <td>49036700.0</td>\n      <td>2.0</td>\n      <td>5.443193</td>\n      <td>220.721139</td>\n      <td>160.932863</td>\n      <td>50.925771</td>\n      <td>24.220608</td>\n      <td>15.932920</td>\n      <td>176.472335</td>\n      <td>155.614168</td>\n      <td>28.620001</td>\n      <td>52.542539</td>\n    </tr>\n    <tr>\n      <th>0</th>\n      <td>2020-07-01</td>\n      <td>CAT</td>\n      <td>129.380005</td>\n      <td>129.399994</td>\n      <td>125.879997</td>\n      <td>118.455788</td>\n      <td>2807800.0</td>\n      <td>2.0</td>\n      <td>1.249468</td>\n      <td>128.246940</td>\n      <td>111.290111</td>\n      <td>52.865414</td>\n      <td>35.692941</td>\n      <td>14.457404</td>\n      <td>117.239538</td>\n      <td>111.578320</td>\n      <td>28.620001</td>\n      <td>52.542539</td>\n    </tr>\n  </tbody>\n</table>\n</div>"
     },
     "execution_count": 14,
     "metadata": {},
     "output_type": "execute_result"
    }
   ],
   "source": [
    "trade.head()"
   ]
  },
  {
   "cell_type": "code",
   "execution_count": 15,
   "metadata": {
    "colab": {
     "base_uri": "https://localhost:8080/"
    },
    "id": "zYN573SOHhxG",
    "outputId": "460cd177-65d2-46f8-eb40-eaeda045c4bb"
   },
   "outputs": [
    {
     "data": {
      "text/plain": "['macd',\n 'boll_ub',\n 'boll_lb',\n 'rsi_30',\n 'cci_30',\n 'dx_30',\n 'close_30_sma',\n 'close_60_sma']"
     },
     "execution_count": 15,
     "metadata": {},
     "output_type": "execute_result"
    }
   ],
   "source": [
    "INDICATORS"
   ]
  },
  {
   "cell_type": "code",
   "execution_count": 16,
   "metadata": {
    "colab": {
     "base_uri": "https://localhost:8080/"
    },
    "id": "Q2zqII8rMIqn",
    "outputId": "d2e2b678-04f8-44be-96ea-3523903780eb"
   },
   "outputs": [
    {
     "name": "stdout",
     "output_type": "stream",
     "text": [
      "Stock Dimension: 26, State Space: 261\n"
     ]
    }
   ],
   "source": [
    "stock_dimension = len(train.tic.unique())\n",
    "state_space = 1 + 2*stock_dimension + len(INDICATORS)*stock_dimension\n",
    "print(f\"Stock Dimension: {stock_dimension}, State Space: {state_space}\")\n"
   ]
  },
  {
   "cell_type": "code",
   "execution_count": 17,
   "metadata": {
    "id": "AWyp84Ltto19"
   },
   "outputs": [],
   "source": [
    "buy_cost_list = sell_cost_list = [0.001] * stock_dimension\n",
    "num_stock_shares = [0] * stock_dimension\n",
    "\n",
    "env_kwargs = {\n",
    "    \"hmax\": 100,\n",
    "    \"initial_amount\": 1000000,\n",
    "    \"num_stock_shares\": num_stock_shares,\n",
    "    \"buy_cost_pct\": buy_cost_list,\n",
    "    \"sell_cost_pct\": sell_cost_list,\n",
    "    \"state_space\": state_space,\n",
    "    \"stock_dim\": stock_dimension,\n",
    "    \"tech_indicator_list\": INDICATORS,\n",
    "    \"action_space\": stock_dimension,\n",
    "    \"reward_scaling\": 1e-4\n",
    "}\n",
    "\n",
    "\n",
    "e_train_gym = StockTradingEnv(df = train, **env_kwargs)\n"
   ]
  },
  {
   "cell_type": "markdown",
   "metadata": {
    "id": "64EoqOrQjiVf"
   },
   "source": [
    "## Environment for Training\n",
    "\n"
   ]
  },
  {
   "cell_type": "code",
   "execution_count": 18,
   "metadata": {
    "colab": {
     "base_uri": "https://localhost:8080/"
    },
    "id": "xwSvvPjutpqS",
    "outputId": "3645668e-ba1f-4610-9789-bc212eb9b776"
   },
   "outputs": [
    {
     "name": "stdout",
     "output_type": "stream",
     "text": [
      "<class 'stable_baselines3.common.vec_env.dummy_vec_env.DummyVecEnv'>\n"
     ]
    }
   ],
   "source": [
    "env_train, _ = e_train_gym.get_sb_env()\n",
    "print(type(env_train))"
   ]
  },
  {
   "cell_type": "markdown",
   "metadata": {
    "id": "HMNR5nHjh1iz"
   },
   "source": [
    "<a id='5'></a>\n",
    "# Part 6: Train DRL Agents\n",
    "* The DRL algorithms are from **Stable Baselines 3**. Users are also encouraged to try **ElegantRL** and **Ray RLlib**.\n",
    "* FinRL includes fine-tuned standard DRL algorithms, such as DQN, DDPG, Multi-Agent DDPG, PPO, SAC, A2C and TD3. We also allow users to\n",
    "design their own DRL algorithms by adapting these DRL algorithms."
   ]
  },
  {
   "cell_type": "code",
   "execution_count": 19,
   "metadata": {
    "id": "364PsqckttcQ"
   },
   "outputs": [],
   "source": [
    "agent = DRLAgent(env = env_train)\n",
    "\n",
    "if_using_a2c = False\n",
    "if_using_ddpg = False\n",
    "if_using_ppo = False\n",
    "if_using_td3 = False\n",
    "if_using_sac = True\n"
   ]
  },
  {
   "cell_type": "markdown",
   "metadata": {
    "id": "YDmqOyF9h1iz"
   },
   "source": [
    "### Agent Training: 5 algorithms (A2C, DDPG, PPO, TD3, SAC)\n"
   ]
  },
  {
   "cell_type": "markdown",
   "metadata": {
    "id": "uijiWgkuh1jB"
   },
   "source": [
    "### Agent 1: A2C\n"
   ]
  },
  {
   "cell_type": "code",
   "execution_count": 20,
   "metadata": {
    "colab": {
     "base_uri": "https://localhost:8080/"
    },
    "id": "GUCnkn-HIbmj",
    "outputId": "a2bdd15c-c366-4f89-e6de-6b0572c2ad23"
   },
   "outputs": [
    {
     "name": "stdout",
     "output_type": "stream",
     "text": [
      "{'n_steps': 5, 'ent_coef': 0.01, 'learning_rate': 0.0007}\n",
      "Using cuda device\n"
     ]
    }
   ],
   "source": [
    "agent = DRLAgent(env = env_train)\n",
    "model_a2c = agent.get_model(\"a2c\")\n",
    "\n",
    "if if_using_a2c:\n",
    "  # set up logger\n",
    "  tmp_path = RESULTS_DIR + '/a2c'\n",
    "  new_logger_a2c = configure(tmp_path, [\"stdout\", \"csv\", \"tensorboard\"])\n",
    "  # Set new logger\n",
    "  model_a2c.set_logger(new_logger_a2c)\n"
   ]
  },
  {
   "cell_type": "code",
   "execution_count": 21,
   "metadata": {
    "id": "0GVpkWGqH4-D"
   },
   "outputs": [],
   "source": [
    "trained_a2c = agent.train_model(model=model_a2c, \n",
    "                             tb_log_name='a2c',\n",
    "                             total_timesteps=50000) if if_using_a2c else None"
   ]
  },
  {
   "cell_type": "markdown",
   "metadata": {
    "id": "MRiOtrywfAo1"
   },
   "source": [
    "### Agent 2: DDPG"
   ]
  },
  {
   "cell_type": "code",
   "execution_count": 22,
   "metadata": {
    "colab": {
     "base_uri": "https://localhost:8080/"
    },
    "id": "M2YadjfnLwgt",
    "outputId": "211f6ae4-c91e-41df-8906-df246e090f75"
   },
   "outputs": [
    {
     "name": "stdout",
     "output_type": "stream",
     "text": [
      "{'batch_size': 128, 'buffer_size': 50000, 'learning_rate': 0.001}\n",
      "Using cuda device\n"
     ]
    }
   ],
   "source": [
    "agent = DRLAgent(env = env_train)\n",
    "model_ddpg = agent.get_model(\"ddpg\")\n",
    "\n",
    "if if_using_ddpg:\n",
    "  # set up logger\n",
    "  tmp_path = RESULTS_DIR + '/ddpg'\n",
    "  new_logger_ddpg = configure(tmp_path, [\"stdout\", \"csv\", \"tensorboard\"])\n",
    "  # Set new logger\n",
    "  model_ddpg.set_logger(new_logger_ddpg)"
   ]
  },
  {
   "cell_type": "code",
   "execution_count": 23,
   "metadata": {
    "id": "tCDa78rqfO_a"
   },
   "outputs": [],
   "source": [
    "trained_ddpg = agent.train_model(model=model_ddpg, \n",
    "                             tb_log_name='ddpg',\n",
    "                             total_timesteps=50000) if if_using_ddpg else None"
   ]
  },
  {
   "cell_type": "markdown",
   "metadata": {
    "id": "_gDkU-j-fCmZ"
   },
   "source": [
    "### Agent 3: PPO"
   ]
  },
  {
   "cell_type": "code",
   "execution_count": 24,
   "metadata": {
    "colab": {
     "base_uri": "https://localhost:8080/"
    },
    "id": "y5D5PFUhMzSV",
    "outputId": "3405d353-0a08-4855-ca59-98098968dd11"
   },
   "outputs": [
    {
     "name": "stdout",
     "output_type": "stream",
     "text": [
      "{'n_steps': 2048, 'ent_coef': 0.01, 'learning_rate': 0.00025, 'batch_size': 128}\n",
      "Using cuda device\n"
     ]
    }
   ],
   "source": [
    "agent = DRLAgent(env = env_train)\n",
    "PPO_PARAMS = {\n",
    "    \"n_steps\": 2048,\n",
    "    \"ent_coef\": 0.01,\n",
    "    \"learning_rate\": 0.00025,\n",
    "    \"batch_size\": 128,\n",
    "}\n",
    "model_ppo = agent.get_model(\"ppo\",model_kwargs = PPO_PARAMS)\n",
    "\n",
    "if if_using_ppo:\n",
    "  # set up logger\n",
    "  tmp_path = RESULTS_DIR + '/ppo'\n",
    "  new_logger_ppo = configure(tmp_path, [\"stdout\", \"csv\", \"tensorboard\"])\n",
    "  # Set new logger\n",
    "  model_ppo.set_logger(new_logger_ppo)"
   ]
  },
  {
   "cell_type": "code",
   "execution_count": 25,
   "metadata": {
    "id": "Gt8eIQKYM4G3"
   },
   "outputs": [],
   "source": [
    "trained_ppo = agent.train_model(model=model_ppo, \n",
    "                             tb_log_name='ppo',\n",
    "                             total_timesteps=50000) if if_using_ppo else None"
   ]
  },
  {
   "cell_type": "markdown",
   "metadata": {
    "id": "3Zpv4S0-fDBv"
   },
   "source": [
    "### Agent 4: TD3"
   ]
  },
  {
   "cell_type": "code",
   "execution_count": 26,
   "metadata": {
    "colab": {
     "base_uri": "https://localhost:8080/"
    },
    "id": "JSAHhV4Xc-bh",
    "outputId": "802fef04-8df5-4df2-f710-e5b08941842f"
   },
   "outputs": [
    {
     "name": "stdout",
     "output_type": "stream",
     "text": [
      "{'batch_size': 100, 'buffer_size': 1000000, 'learning_rate': 0.001}\n",
      "Using cuda device\n"
     ]
    }
   ],
   "source": [
    "agent = DRLAgent(env = env_train)\n",
    "TD3_PARAMS = {\"batch_size\": 100, \n",
    "              \"buffer_size\": 1000000, \n",
    "              \"learning_rate\": 0.001}\n",
    "\n",
    "model_td3 = agent.get_model(\"td3\",model_kwargs = TD3_PARAMS)\n",
    "\n",
    "if if_using_td3:\n",
    "  # set up logger\n",
    "  tmp_path = RESULTS_DIR + '/td3'\n",
    "  new_logger_td3 = configure(tmp_path, [\"stdout\", \"csv\", \"tensorboard\"])\n",
    "  # Set new logger\n",
    "  model_td3.set_logger(new_logger_td3)"
   ]
  },
  {
   "cell_type": "code",
   "execution_count": 27,
   "metadata": {
    "id": "OSRxNYAxdKpU"
   },
   "outputs": [],
   "source": [
    "trained_td3 = agent.train_model(model=model_td3, \n",
    "                             tb_log_name='td3',\n",
    "                             total_timesteps=30000) if if_using_td3 else None"
   ]
  },
  {
   "cell_type": "markdown",
   "metadata": {
    "id": "Dr49PotrfG01"
   },
   "source": [
    "### Agent 5: SAC"
   ]
  },
  {
   "cell_type": "code",
   "execution_count": 28,
   "metadata": {
    "colab": {
     "base_uri": "https://localhost:8080/"
    },
    "id": "xwOhVjqRkCdM",
    "outputId": "3c848ff6-587e-43d1-b50d-a7d521a14b4f"
   },
   "outputs": [
    {
     "name": "stdout",
     "output_type": "stream",
     "text": [
      "{'batch_size': 256, 'buffer_size': 1000000, 'learning_rate': 0.0001, 'learning_starts': 100, 'ent_coef': 'auto_0.1', 'gamma': 0.99}\n",
      "Using cuda device\n",
      "Logging to ./results/sac\n"
     ]
    }
   ],
   "source": [
    "agent = DRLAgent(env = env_train)\n",
    "SAC_PARAMS = {\n",
    "    \"batch_size\": 256,  # 128\n",
    "    \"buffer_size\": 1000000,  # 100000\n",
    "    \"learning_rate\": 0.0001,\n",
    "    \"learning_starts\": 100,\n",
    "    \"ent_coef\": \"auto_0.1\",\n",
    "    \"gamma\":0.99,\n",
    "}\n",
    "\n",
    "model_sac = agent.get_model(\"sac\",model_kwargs = SAC_PARAMS)\n",
    "\n",
    "if if_using_sac:\n",
    "  # set up logger\n",
    "  tmp_path = RESULTS_DIR + '/sac'\n",
    "  new_logger_sac = configure(tmp_path, [\"stdout\", \"csv\", \"tensorboard\"])\n",
    "  # Set new logger\n",
    "  model_sac.set_logger(new_logger_sac)"
   ]
  },
  {
   "cell_type": "code",
   "execution_count": 29,
   "metadata": {
    "colab": {
     "base_uri": "https://localhost:8080/"
    },
    "id": "K8RSdKCckJyH",
    "outputId": "4d65a11b-32b0-4c3f-b0da-e1b59fc6e194"
   },
   "outputs": [],
   "source": [
    "train_total_timesteps = 400 #40000\\1008000\n",
    "save_path = f\"{config.TRAINED_MODEL_DIR}/{'sac'.upper()}_{train_total_timesteps // 1000}k\"\n",
    "\n",
    "trained_sac = agent.train_model(model=model_sac,\n",
    "                             tb_log_name='sac',\n",
    "                             total_timesteps=train_total_timesteps) if if_using_sac else None\n",
    "trained_sac.save(save_path)"
   ]
  },
  {
   "cell_type": "code",
   "execution_count": 30,
   "outputs": [
    {
     "name": "stdout",
     "output_type": "stream",
     "text": [
      "Successfully load model ./trained_models/SAC_0k\n",
      "episode_return 4.726552832717777\n",
      "Test Finished!\n"
     ]
    },
    {
     "data": {
      "text/plain": "[1000000,\n 982768.40130291,\n 982837.0308383227,\n 979542.602260137,\n 980463.9421041253,\n 976965.432552791,\n 970811.3223055843,\n 969719.5065453295,\n 960444.4195734981,\n 961743.7997042419,\n 966043.8163846255,\n 938391.074658394,\n 958451.4769247056,\n 958495.0015538216,\n 960621.8665793182,\n 965234.2417116645,\n 973943.4299733164,\n 998603.7386496072,\n 977007.4421609406,\n 968360.4580384496,\n 969784.3249816422,\n 980163.4666110042,\n 985794.2372500185,\n 1005267.9079,\n 1023907.9973886493,\n 1029851.807534838,\n 978753.0406235936,\n 992675.8172403577,\n 994872.7651791194,\n 990638.5659213756,\n 935808.7853114932,\n 936623.0939793943,\n 933761.9985674375,\n 922641.7046594137,\n 885600.0968065129,\n 938661.3028148519,\n 919774.0691756936,\n 897914.0789813139,\n 881120.4065258442,\n 845085.4892312523,\n 838699.8622781215,\n 862102.9877501348,\n 823742.1609141303,\n 815352.239993933,\n 811914.5761656376,\n 870731.700257536,\n 884291.6489437695,\n 921962.7201015471,\n 928231.5890835498,\n 909559.7232548784,\n 943372.1941703368,\n 970373.1021768848,\n 946035.9788960495,\n 925617.5702250162,\n 1002363.3896739164,\n 981150.7985325318,\n 996178.1371431809,\n 1012577.9977192689,\n 991616.3701755811,\n 949684.0951041986,\n 969589.4880485345,\n 988724.5836429406,\n 1013708.2059206773,\n 1028845.623920962,\n 1019770.3092178274,\n 1008741.135610128,\n 1011365.7024150139,\n 1053814.977553869,\n 1068186.4896321883,\n 1018935.7463228827,\n 1037320.2870631381,\n 1041467.6447127176,\n 1045231.980529101,\n 1006660.0681546045,\n 1025951.5544436289,\n 1018095.6221192194,\n 1039222.2656071497,\n 1058297.1454356029,\n 1052079.2084105327,\n 1053491.9513752772,\n 1081712.5700953319,\n 1077425.4246085002,\n 1069239.253167422,\n 1102011.390548022,\n 1103972.0858319118,\n 1123675.094159396,\n 1100717.1748822047,\n 1130622.4608624293,\n 1107845.6641342952,\n 1108593.67761925,\n 1078069.048297198,\n 1095255.4254792049,\n 1092047.8271763637,\n 1131345.523790629,\n 1124567.5294401958,\n 1116830.5237839534,\n 1108371.9083815403,\n 1105125.3771100827,\n 1139559.847040493,\n 1120776.7772327252,\n 1141460.0630889721,\n 1150939.9462748356,\n 1170577.9324603863,\n 1169315.7355531394,\n 1165896.8853524323,\n 1188320.309187233,\n 1184446.7622030373,\n 1180376.2045200462,\n 1189054.4323375816,\n 1176463.6446350212,\n 1171826.4531787033,\n 1176599.8422401543,\n 1155646.8507869835,\n 1153525.3368948097,\n 1145761.5788348312,\n 1159889.89653331,\n 1157553.2170808907,\n 1119083.9031618233,\n 1129558.943334877,\n 1131965.4168151016,\n 1152623.8501651878,\n 1155063.2290962334,\n 1167227.7946913834,\n 1158017.228145897,\n 1164412.3129251595,\n 1138654.6528967018,\n 1151476.6974008675,\n 1128989.0053737755,\n 1136507.4507673378,\n 1146229.9304292793,\n 1141492.1120665665,\n 1171500.759185135,\n 1175648.417311966,\n 1209298.6144507523,\n 1223315.8065734035,\n 1226276.8543598996,\n 1243210.4961154805,\n 1247556.2095101224,\n 1246706.9591477262,\n 1270188.8902848111,\n 1273047.2676871167,\n 1268662.5901849614,\n 1263497.2293780195,\n 1257296.5286276685,\n 1267450.1587999212,\n 1268477.5757139074,\n 1278408.263036524,\n 1284292.584900652,\n 1287270.0471127378,\n 1280605.4770109998,\n 1280767.046555792,\n 1272860.8224389898,\n 1265687.4164913045,\n 1282535.8511722432,\n 1280900.6978319036,\n 1271218.5429623472,\n 1241333.2357371198,\n 1256174.0109918462,\n 1263190.7747834073,\n 1277803.6310708867,\n 1297115.3585861074,\n 1292407.0318534719,\n 1299765.0832088338,\n 1307353.4839232313,\n 1305746.1688640462,\n 1301062.9917719709,\n 1298945.726029669,\n 1268518.4359972822,\n 1267434.6664975034,\n 1276839.3746083127,\n 1288623.1549132215,\n 1307076.6505072461,\n 1317612.1028344976,\n 1337165.7185600149,\n 1335471.8568761693,\n 1343308.3789408552,\n 1344308.255042349,\n 1368979.6809265958,\n 1373889.79218701,\n 1380758.8166778432,\n 1373809.0394757139,\n 1377529.3755400525,\n 1365474.5020573484,\n 1361858.651339327,\n 1350737.5300410138,\n 1372844.7195208417,\n 1370407.193327223,\n 1371320.9620507108,\n 1340155.2934277402,\n 1338579.781545435,\n 1362714.7127211438,\n 1377610.9208534108,\n 1387394.1188638555,\n 1388654.0635226117,\n 1397273.757639681,\n 1402561.43757609,\n 1394821.8113687383,\n 1421254.8800576078,\n 1421207.4171674596,\n 1407125.994664942,\n 1415085.0850756513,\n 1403216.1025183545,\n 1389156.3128378736,\n 1405059.836280142,\n 1385729.6382806646,\n 1372200.311383997,\n 1372263.7398760663,\n 1341491.458978449,\n 1375703.2315280782,\n 1335345.7398131238,\n 1340888.8325479375,\n 1343660.4644344198,\n 1343568.2401483404,\n 1376395.886885439,\n 1373830.250500475,\n 1402105.4356205808,\n 1402281.8225362645,\n 1417524.9231083738,\n 1405472.7576697217,\n 1416366.9280350553,\n 1431006.4001224386,\n 1427590.5576775419,\n 1426166.068256651,\n 1405749.4409840452,\n 1396744.9063976156,\n 1416146.5068805562,\n 1416224.1637337552,\n 1414327.0267513143,\n 1389741.8377631055,\n 1404408.0141075002,\n 1409621.9317658292,\n 1403401.2666385518,\n 1383129.838505541,\n 1396384.3200357305,\n 1389787.3444803106,\n 1371484.5053537237,\n 1388195.8523252355,\n 1398693.4586732732,\n 1401370.713411604,\n 1407368.439766203,\n 1395695.7230947362,\n 1401592.6403835164,\n 1377685.3060772764,\n 1391723.2392347204,\n 1408981.6532624112,\n 1412265.0206520902,\n 1411181.506532465,\n 1415939.303463255,\n 1416816.282895838,\n 1418286.3190896856,\n 1423064.2110669957,\n 1418676.771724497,\n 1442775.477584635,\n 1446113.753841673,\n 1439663.6018503057,\n 1450036.071100031,\n 1442255.1834066259,\n 1439459.2422473775,\n 1422453.4408829557,\n 1429198.7334511625,\n 1430649.1616766797,\n 1414847.1273138868,\n 1434437.9428098546,\n 1427231.0974448072,\n 1394440.7732422696,\n 1357044.833258425,\n 1355157.841448103,\n 1348176.8227570402,\n 1355561.118001734,\n 1348572.7487280713,\n 1333387.4553850042,\n 1356270.3897979604,\n 1374991.4967215406,\n 1376581.0893271314,\n 1336631.7500050412,\n 1344826.8793232786,\n 1328077.867676531,\n 1345591.2165496694,\n 1345330.1351383077,\n 1355547.9072764264,\n 1351927.4408839094,\n 1374788.3500879155,\n 1377196.3172500478,\n 1380576.7564132558,\n 1383446.150103365,\n 1381393.051331793,\n 1370926.3854954587,\n 1383802.6265967237,\n 1370279.3811104642,\n 1370793.8451736318,\n 1379338.4469673978,\n 1388047.2953365194,\n 1383598.5009124624,\n 1400683.0273855077,\n 1423115.6487720357,\n 1435547.617819582,\n 1434107.9370129453,\n 1441733.4949248182,\n 1447898.2181737768,\n 1452445.3836973058,\n 1448765.9168775426,\n 1462069.28365687,\n 1466913.337951933,\n 1475200.9666040288,\n 1477160.1542456495,\n 1476624.2878043996,\n 1478749.756386553,\n 1467938.5980947362,\n 1471373.7433359968,\n 1467107.1501281606,\n 1473722.499382292,\n 1472081.8490655767,\n 1465173.7201392995,\n 1474463.0777604925,\n 1488180.2279451238,\n 1489330.2384817945,\n 1491784.5999796735,\n 1506768.0012567388,\n 1515974.6157620298,\n 1514589.055349146,\n 1521704.4832880842,\n 1548258.8384750234,\n 1548500.3699205266,\n 1482279.886648451,\n 1496474.3195178853,\n 1491888.1530535566,\n 1485074.200167452,\n 1491965.9582603322,\n 1496210.8263719426,\n 1478931.5875289785,\n 1463334.0583012449,\n 1476690.3406212674,\n 1503953.8464229451,\n 1447293.3527791845,\n 1473792.2428424703,\n 1451800.4144628393,\n 1440088.7220895635,\n 1391069.5024817334,\n 1374855.2934210645,\n 1422563.3787958967,\n 1417492.645034586,\n 1442746.948609625,\n 1419994.415104662,\n 1396641.0421860563,\n 1400619.1609142171,\n 1375997.0890348302,\n 1378744.667098795,\n 1332929.985686575,\n 1354946.9250977384,\n 1338126.6414540159,\n 1349670.730140959,\n 1328984.8056424009,\n 1374003.425239359,\n 1364302.8372328626,\n 1345902.7538850652,\n 1389264.6346528875,\n 1392997.046821867,\n 1356027.6743557798,\n 1337193.6762574064,\n 1344391.6030981885,\n 1337230.3102090703,\n 1357059.4937241422,\n 1367157.4307659017,\n 1356939.6074560033,\n 1386882.556198393,\n 1389423.2891157018,\n 1392815.2113292562,\n 1393792.3459947454,\n 1396653.9088800298,\n 1372193.7602098333,\n 1369760.3257186757,\n 1353337.5920970785,\n 1363409.4227788793,\n 1353746.5153091298,\n 1319873.780669962,\n 1304029.9791577207,\n 1303051.4517062055,\n 1298946.7664840566,\n 1304939.5810654508,\n 1340412.2612521993,\n 1354504.645781313,\n 1368778.3735492574,\n 1370604.3948166715,\n 1393129.4011619436,\n 1392465.2581398832,\n 1410404.732963358,\n 1386045.7540915357,\n 1391769.5635259496,\n 1409695.677198206,\n 1394091.1790073263,\n 1417547.930562769,\n 1424275.0211608754,\n 1438462.687834059,\n 1432614.7227094518,\n 1427188.8177330839,\n 1437349.1700246679,\n 1436599.945730959,\n 1459703.5997436391,\n 1460592.350701605,\n 1476945.7665403234,\n 1471130.844915186,\n 1474432.2122261869,\n 1484753.1881811963,\n 1475204.0207827436,\n 1435097.7830202924,\n 1428947.0345008718,\n 1424254.8098223554,\n 1422299.9075072156,\n 1435136.3484533178,\n 1436845.8551419126,\n 1414175.681815897,\n 1427333.2569144117,\n 1420146.9263131963,\n 1401571.7376644956,\n 1407943.3224509107,\n 1391244.086151396,\n 1404219.2881687032,\n 1381857.9928624975,\n 1381479.5414769994,\n 1419713.9187963353,\n 1427222.5044749128,\n 1456968.162437235,\n 1442598.658366953,\n 1451683.2402832853,\n 1453945.579753195,\n 1463587.2374742376,\n 1481001.1354940282,\n 1472002.624537264,\n 1476236.7210910665,\n 1477413.998948847,\n 1473934.015071665,\n 1496585.1959903585,\n 1492732.3741205083,\n 1481135.4890783178,\n 1463489.0628860341,\n 1485162.3091333257,\n 1476248.8325002538,\n 1475389.1540763723,\n 1467661.4890010701,\n 1463305.5820234166,\n 1477328.1692474233,\n 1461640.5289428579,\n 1484588.0546777593,\n 1480411.7318494665,\n 1480595.6370599614,\n 1490153.229880129,\n 1481001.3727243291,\n 1495799.0328910695,\n 1500222.3460948812,\n 1495958.6069839345,\n 1500618.693142687,\n 1511314.922952448,\n 1507419.1117866384,\n 1527299.9556825506,\n 1533317.390958582,\n 1531372.1715114461,\n 1537925.8704364644,\n 1541137.4456737386,\n 1541958.9791133748,\n 1548482.575779711,\n 1538801.3396232473,\n 1538557.467716013,\n 1550467.9815004217,\n 1554129.5352218496,\n 1575744.0357396947,\n 1586837.2751252996,\n 1582024.4759309636,\n 1569453.516090189,\n 1579412.8085067617,\n 1569688.2344901906,\n 1558670.1026122915,\n 1557606.48582152,\n 1532182.1336744176,\n 1533892.2226112233,\n 1560174.3216131078,\n 1580133.3238160955,\n 1566070.4349811422,\n 1546445.9638107168,\n 1567560.305097376,\n 1554224.786482607,\n 1556967.3053701269,\n 1541241.0105245458,\n 1570390.4039609777,\n 1587553.9809120046,\n 1587705.5563810216,\n 1589342.41169623,\n 1587003.3997218953,\n 1601100.3933561193,\n 1599590.739824091,\n 1607616.4319961416,\n 1609282.8792436467,\n 1601506.5799444066,\n 1591247.397058283,\n 1593296.904624735,\n 1591024.5548389303,\n 1591874.4781482564,\n 1603340.2404401647,\n 1604226.5193651067,\n 1599184.936176096,\n 1601202.5376146184,\n 1600270.6981151449,\n 1598517.5126254903,\n 1595811.5895736562,\n 1596208.3455179082,\n 1617577.9580343114,\n 1613239.4178388463,\n 1626443.9082553731,\n 1617953.4712732183,\n 1614289.655344759,\n 1608354.7387864934,\n 1611872.845620905,\n 1621945.8451278554,\n 1619831.8379304754,\n 1640650.853067194,\n 1643728.002368723,\n 1615612.2833707677,\n 1604025.7392013418,\n 1609344.592288767,\n 1611864.2006576406,\n 1595566.362991129,\n 1595516.3474386083,\n 1601174.356967722,\n 1580789.5029027807,\n 1588413.2267063009,\n 1602797.9477699148,\n 1607207.5749557363,\n 1608513.1551330434,\n 1613753.524099146,\n 1619895.7145059453,\n 1633559.3407609807,\n 1627960.65785483,\n 1623754.5087592946,\n 1630686.7774761068,\n 1634896.4585245,\n 1632685.5437143194,\n 1637996.0421951162,\n 1632294.078590189,\n 1639831.1607425557,\n 1613726.459935938,\n 1605400.7097852575,\n 1606948.471687113,\n 1621562.9300582753,\n 1620043.5424640523,\n 1604939.537390505,\n 1606390.7573430883,\n 1634108.8503377782,\n 1619079.9455077993,\n 1607750.0813062536,\n 1619808.2586191045,\n 1619466.5843332158,\n 1599862.5144431936,\n 1610133.3801248418,\n 1595360.9354875432,\n 1582732.8852231847,\n 1552383.5546653615,\n 1567501.640780245,\n 1577586.5159108983,\n 1596068.7286250936,\n 1594421.8945272313,\n 1599532.9886272298,\n 1613353.0847156392,\n 1611210.1589677678,\n 1603357.0648753988,\n 1617230.8307702886,\n 1630978.440829073,\n 1625739.730044161,\n 1631184.2849357473,\n 1631839.6318729268,\n 1633780.6342599737,\n 1644254.7800243245,\n 1643430.1872222768,\n 1640297.9386985647,\n 1640314.162100588,\n 1627490.5722635137,\n 1629782.6432435857,\n 1620216.914422785,\n 1625081.1609809743,\n 1609344.8986671316,\n 1605935.4839551793,\n 1640248.6279533254,\n 1635213.4722164022,\n 1633315.0222814428,\n 1643149.0930145131,\n 1650713.7937991964,\n 1650906.5266139852,\n 1657169.3060672628,\n 1657769.1150567876,\n 1654884.6526582586,\n 1648882.0388353216,\n 1636663.8263690816,\n 1641580.2878539907,\n 1643963.377436434,\n 1655578.2990177022,\n 1640466.8234031545,\n 1635704.7814147817,\n 1631502.5954559194,\n 1621490.5366752492,\n 1624437.682126795,\n 1639239.6316840993,\n 1643999.7970092641,\n 1634021.1045301305,\n 1627123.0261981832,\n 1629941.6302507268,\n 1631078.8270461904,\n 1632402.1098449575,\n 1638412.434328829,\n 1655614.0987699376,\n 1618121.412076746,\n 1610675.2687032567,\n 1601362.1365802633,\n 1591288.8718631612,\n 1588787.6071908819,\n 1582172.096736704,\n 1595960.9124362813,\n 1585039.928929125,\n 1588663.2286985265,\n 1600550.480000292,\n 1580125.2853258,\n 1590778.9137180196,\n 1596749.6145656453,\n 1598885.0563896047,\n 1615040.4772470342,\n 1606333.7075956212,\n 1593218.106051241,\n 1574488.4058959829,\n 1588177.396448885,\n 1602727.1565406667,\n 1615784.999279772,\n 1631201.1997506963,\n 1656235.0089900838,\n 1655584.3146617757,\n 1658829.1237924444,\n 1672540.812737261,\n 1662777.2266195165,\n 1640499.5057638036,\n 1632978.2769496785,\n 1634998.38076285,\n 1628983.102183138,\n 1634888.05405501,\n 1626244.2671954976,\n 1644388.7287538396,\n 1650374.1618526326,\n 1664924.3001773702,\n 1673495.8227794515,\n 1668337.6252353536,\n 1664349.9658954488,\n 1631531.620015894,\n 1632890.1911380636,\n 1624313.8261649953,\n 1620070.2287509786,\n 1589069.317773615,\n 1598194.9907014715,\n 1532663.2887504445,\n 1539379.1371324407,\n 1452453.4944417821,\n 1513798.0372522222,\n 1434049.06906489,\n 1500829.8316457616,\n 1505890.0606820928,\n 1534423.1365669118,\n 1517769.0583560811,\n 1520295.1019676076,\n 1466120.1282317983,\n 1462101.9685199605,\n 1452824.7160222875,\n 1491981.4248082982,\n 1510802.1306732045,\n 1487832.8925321447,\n 1510980.1430442678,\n 1547079.2111375676,\n 1546255.677974497,\n 1558765.2645728933,\n 1541329.151374613,\n 1505136.9819305288,\n 1490802.8472688543,\n 1530736.405037676,\n 1515271.999343668,\n 1469906.2127197133,\n 1482431.5502059804,\n 1494774.5788858281,\n 1513212.9221408712,\n 1543023.5048473226,\n 1551713.6734464513,\n 1536474.3693492757,\n 1528073.551305567,\n 1484723.4313590871,\n 1435515.123913561,\n 1448552.3408143865,\n 1478826.9785135137,\n 1494826.1902120458,\n 1461232.564947878,\n 1478966.427427088,\n 1437968.6887166845,\n 1394926.4524705755,\n 1421189.8071506368,\n 1437014.0495708333,\n 1464090.8896472799,\n 1445460.7822435247,\n 1489200.7890994893,\n 1493185.3298690664,\n 1504233.782154833,\n 1501330.2536695348,\n 1517736.2489555227,\n 1492674.6984269964,\n 1528839.6667468892,\n 1520710.221487795,\n 1522087.5853383886,\n 1558443.2045324193,\n 1575568.4156453954,\n 1544582.2916086065,\n 1564535.2478072988,\n 1626783.82235602,\n 1629237.7756259786,\n 1587355.4221542226,\n 1539792.4662416326,\n 1558717.5394180166,\n 1582352.4052617894,\n 1570262.5179975377,\n 1588603.649172579,\n 1604451.9375570165,\n 1542486.3106716024,\n 1553134.1983392583,\n 1581420.6105277883,\n 1568042.2684991704,\n 1570564.8668554174,\n 1535880.7615526067,\n 1508648.5846650945,\n 1495434.1332652913,\n 1473450.2351339208,\n 1468664.3820474492,\n 1442026.7822254049,\n 1441012.979288851,\n 1477677.5468461858,\n 1479238.101568018,\n 1548644.3425605642,\n 1541106.4063213216,\n 1549903.7737853872,\n 1565338.4825151311,\n 1574802.988412653,\n 1591629.2243268834,\n 1562611.0853774892,\n 1586572.9507453786,\n 1558074.349592005,\n 1543034.2759521352,\n 1521943.676662241,\n 1520193.0157602178,\n 1522100.8773019658,\n 1505090.1630819188,\n 1545483.9160631048,\n 1552731.0441968786,\n 1563697.9473083364,\n 1575576.5491989003,\n 1576687.38647822,\n 1557080.3207490789,\n 1575611.351044451,\n 1564965.1945407735,\n 1589715.2677104818,\n 1589371.7311809408,\n 1593271.7166011678,\n 1591941.742392336,\n 1594058.453288828,\n 1611116.025419985,\n 1613345.6823642598,\n 1617590.0250108587,\n 1608245.2874420034,\n 1611877.6370132314,\n 1643534.051691805,\n 1658653.1106555806,\n 1663625.2948644506,\n 1656166.72014979,\n 1651254.132970606,\n 1662124.4357765066,\n 1653800.3724029409,\n 1654359.6699169027,\n 1645355.6538160192,\n 1653032.0458772527,\n 1667188.5829255925,\n 1667877.5022266256,\n 1696604.1106374608,\n 1695480.5810497152,\n 1700335.9225948201,\n 1696679.3356674062,\n 1695524.4744956838,\n 1688293.2794683324,\n 1702413.7144163,\n 1698332.87203673,\n 1689846.362616335,\n 1709229.3510921346,\n 1711828.015481745,\n 1714770.702963625,\n 1707104.594253336,\n 1717556.764052187,\n 1730928.8233611928,\n 1735157.2281415807,\n 1740888.7386625158,\n 1730985.074262415,\n 1750226.9633539068,\n 1744458.0817010747,\n 1736949.4987314092,\n 1712236.0014570104,\n 1726564.334760462,\n 1730113.123096262,\n 1733690.825340067,\n 1733375.8059709417,\n 1773662.164384638,\n 1766922.7687223302,\n 1777820.910993372,\n 1772416.9894636022,\n 1781802.9398172246,\n 1781342.566531931,\n 1777360.3016813146,\n 1764466.3686654912,\n 1770357.988521372,\n 1797348.0828302251,\n 1789167.3375318395,\n 1788126.169330393,\n 1788103.027583872,\n 1794368.1993921148,\n 1803792.9164464818,\n 1798765.2492616521,\n 1773245.2208955633,\n 1773802.939435755,\n 1759688.403737818,\n 1729516.743461405,\n 1746125.8808114873,\n 1765647.2002046453,\n 1737713.617131983,\n 1743697.0591867315,\n 1760553.2978246557,\n 1756262.61534289,\n 1740824.2711809026,\n 1742407.0185010778,\n 1732521.991935526,\n 1734976.2750795232,\n 1752463.6581323491,\n 1772137.7751481878,\n 1783242.6535928594,\n 1781318.4676511632,\n 1790121.4904573308,\n 1787991.9814069616,\n 1774975.3827264654,\n 1743385.9800737249,\n 1744574.1283929693,\n 1731021.3204248296,\n 1716634.523935114,\n 1702413.9016721593,\n 1694745.67485026,\n 1675519.4224946843,\n 1673282.5050294744,\n 1667685.2754838811,\n 1644665.5704419957,\n 1639375.4256685125,\n 1661256.4376867162,\n 1661892.922006403,\n 1661567.0714433538,\n 1662387.1299913274,\n 1656460.6695134984,\n 1669225.7821424352,\n 1644146.7881467687,\n 1645710.585937296,\n 1597572.1890142309,\n 1596276.9981820928,\n 1606186.2528417455,\n 1645808.0886190282,\n 1639472.421113764,\n 1647244.1180589544,\n 1622238.612247263,\n 1641624.337096964,\n 1631037.624994074,\n 1655274.2856748449,\n 1679377.6262510167,\n 1675123.9648073064,\n 1689317.0720155584,\n 1686515.3115003454,\n 1650892.299352442,\n 1663023.0518281804,\n 1639538.929189478,\n 1649979.5715444433,\n 1665849.5572507726,\n 1660296.756734644,\n 1693042.6414049016,\n 1701653.937089716,\n 1715774.059419428,\n 1705249.317718302,\n 1692070.858115946,\n 1686356.8170774328,\n 1680214.9180734502,\n 1680714.5745008336,\n 1676027.0643308507,\n 1702458.3731954442,\n 1700667.4791639196,\n 1712903.19047526,\n 1724160.8396585332,\n 1720700.4683854925,\n 1701714.8776986944,\n 1679633.8632028447,\n 1665926.2117689,\n 1671943.7315595495,\n 1699808.435239588,\n 1737974.8044011937,\n 1732762.504825388,\n 1724198.6177537786,\n 1720504.3421399938,\n 1703188.4086606847,\n 1735437.4075124608,\n 1741987.0256002294,\n 1748948.1898973333,\n 1742807.845248972,\n 1744626.7660615789,\n 1749476.0749547826,\n 1753178.438024317,\n 1753810.378331934,\n 1757098.5230748998,\n 1770126.6375787603,\n 1770961.4720056402,\n 1775370.1528070318,\n 1772048.8300569402,\n 1772742.046825205,\n 1759409.7630193578,\n 1774982.1083448278,\n 1776678.592824732,\n 1772532.477847849,\n 1771853.5743463384,\n 1757744.8571946966,\n 1775448.7490766393,\n 1773933.7848584997,\n 1779584.2168386327,\n 1815069.9662721502,\n 1820874.3945596563,\n 1808840.740146433,\n 1814063.715139185,\n 1817838.521346842,\n 1847609.9972875463,\n 1850386.7247941839,\n 1848407.7928407537,\n 1848895.897567545,\n 1846379.314004694,\n 1845388.4443300115,\n 1840138.7914064275,\n 1839439.765460764,\n 1821933.6773469793,\n 1812975.948867594,\n 1833253.3355138646,\n 1819571.543472086,\n 1835771.3545148717,\n 1837761.38521937,\n 1840607.2656171666,\n 1854288.9918783056,\n 1853310.7615774022,\n 1852221.4651639806,\n 1845273.0318506109,\n 1828394.026582514,\n 1835800.8220117437,\n 1827552.652498995,\n 1850298.7142131673,\n 1863267.7530019628,\n 1868793.1989353048,\n 1860669.343342577,\n 1823259.770638262,\n 1820209.605211054,\n 1789281.2835214483,\n 1787600.4825170385,\n 1788916.824265276,\n 1787402.4779174672,\n 1788084.1399476873,\n 1808049.022737299,\n 1792225.309492861,\n 1795417.1691587316,\n 1816764.498822962,\n 1765849.1061313497,\n 1740112.9296748983,\n 1736182.549577509,\n 1739415.953411852,\n 1734155.9426353322,\n 1713228.965888773,\n 1717103.4495017873,\n 1727995.0206096517,\n 1756916.9549014913,\n 1759516.5863950597,\n 1773655.6403396474,\n 1797778.7244937764,\n 1792296.911925112,\n 1772961.7150218831,\n 1790607.157269274,\n 1800937.6313264715,\n 1799051.9826038228,\n 1793873.2550838338,\n 1787055.608036791,\n 1793456.8046281682,\n 1801097.8286893712,\n 1803529.6913354741,\n 1814379.4797237264,\n 1833617.377538477,\n 1834279.202331339,\n 1828427.8444354879,\n 1825538.971616541,\n 1848118.169491564,\n 1870955.5325944768,\n 1856905.4107463704,\n 1871198.2737472402,\n ...]"
     },
     "execution_count": 30,
     "metadata": {},
     "output_type": "execute_result"
    }
   ],
   "source": [
    "agent.DRL_prediction_load_from_file('sac', e_train_gym, save_path, deterministic=True)"
   ],
   "metadata": {
    "collapsed": false
   }
  },
  {
   "cell_type": "code",
   "execution_count": 31,
   "outputs": [
    {
     "name": "stdout",
     "output_type": "stream",
     "text": [
      "['__abstractmethods__', '__class__', '__delattr__', '__dict__', '__dir__', '__doc__', '__eq__', '__format__', '__ge__', '__getattribute__', '__gt__', '__hash__', '__init__', '__init_subclass__', '__le__', '__lt__', '__module__', '__ne__', '__new__', '__reduce__', '__reduce_ex__', '__repr__', '__setattr__', '__sizeof__', '__slots__', '__str__', '__subclasshook__', '__weakref__', '_abc_impl', '_get_indices', '_get_target_envs', '_obs_from_buf', '_save_obs', 'action_space', 'actions', 'buf_dones', 'buf_infos', 'buf_obs', 'buf_rews', 'close', 'env_is_wrapped', 'env_method', 'envs', 'get_attr', 'get_images', 'getattr_depth_check', 'keys', 'metadata', 'num_envs', 'observation_space', 'render', 'reset', 'seed', 'set_attr', 'step', 'step_async', 'step_wait', 'unwrapped']\n"
     ]
    }
   ],
   "source": [
    "print(dir(env_train))"
   ],
   "metadata": {
    "collapsed": false
   }
  },
  {
   "cell_type": "markdown",
   "metadata": {
    "id": "f2wZgkQXh1jE"
   },
   "source": [
    "## In-sample Performance\n",
    "\n",
    "Assume that the initial capital is $1,000,000."
   ]
  },
  {
   "cell_type": "markdown",
   "metadata": {
    "id": "bEv5KGC8h1jE"
   },
   "source": [
    "### Set turbulence threshold\n",
    "Set the turbulence threshold to be greater than the maximum of insample turbulence data. If current turbulence index is greater than the threshold, then we assume that the current market is volatile"
   ]
  },
  {
   "cell_type": "code",
   "execution_count": null,
   "metadata": {
    "id": "efwBi84ch1jE"
   },
   "outputs": [],
   "source": [
    "data_risk_indicator = processed_full[(processed_full.date<TRAIN_END_DATE) & (processed_full.date>=TRAIN_START_DATE)]\n",
    "insample_risk_indicator = data_risk_indicator.drop_duplicates(subset=['date'])"
   ]
  },
  {
   "cell_type": "code",
   "execution_count": null,
   "metadata": {
    "colab": {
     "base_uri": "https://localhost:8080/"
    },
    "id": "VHZMBpSqh1jG",
    "outputId": "73edde3b-1414-4a0d-f876-6460de2ff8e1"
   },
   "outputs": [],
   "source": [
    "insample_risk_indicator.vix.describe()"
   ]
  },
  {
   "cell_type": "code",
   "execution_count": null,
   "metadata": {
    "colab": {
     "base_uri": "https://localhost:8080/"
    },
    "id": "BDkszkMloRWT",
    "outputId": "c5df1f2f-ed52-4107-a3af-a358767ae155"
   },
   "outputs": [],
   "source": [
    "insample_risk_indicator.vix.quantile(0.996)"
   ]
  },
  {
   "cell_type": "code",
   "execution_count": null,
   "metadata": {
    "colab": {
     "base_uri": "https://localhost:8080/"
    },
    "id": "AL7hs7svnNWT",
    "outputId": "ab5a1015-3f83-41b7-ba65-1487f3188588"
   },
   "outputs": [],
   "source": [
    "insample_risk_indicator.turbulence.describe()"
   ]
  },
  {
   "cell_type": "code",
   "execution_count": null,
   "metadata": {
    "colab": {
     "base_uri": "https://localhost:8080/"
    },
    "id": "N78hfHckoqJ9",
    "outputId": "2c8a54d6-022f-4716-dc6d-22a450f5b9ab"
   },
   "outputs": [],
   "source": [
    "insample_risk_indicator.turbulence.quantile(0.996)"
   ]
  },
  {
   "cell_type": "markdown",
   "metadata": {
    "id": "U5mmgQF_h1jQ"
   },
   "source": [
    "### Trading (Out-of-sample Performance)\n",
    "\n",
    "We update periodically in order to take full advantage of the data, e.g., retrain quarterly, monthly or weekly. We also tune the parameters along the way, in this notebook we use the in-sample data from 2009-01 to 2020-07 to tune the parameters once, so there is some alpha decay here as the length of trade date extends. \n",
    "\n",
    "Numerous hyperparameters – e.g. the learning rate, the total number of samples to train on – influence the learning process and are usually determined by testing some variations."
   ]
  },
  {
   "cell_type": "code",
   "execution_count": null,
   "metadata": {
    "id": "cIqoV0GSI52v"
   },
   "outputs": [],
   "source": [
    "e_trade_gym = StockTradingEnv(df = trade, turbulence_threshold = 70,risk_indicator_col='vix', **env_kwargs)\n",
    "# env_trade, obs_trade = e_trade_gym.get_sb_env()"
   ]
  },
  {
   "cell_type": "code",
   "execution_count": null,
   "metadata": {
    "colab": {
     "base_uri": "https://localhost:8080/",
     "height": 357
    },
    "id": "W_XNgGsBMeVw",
    "outputId": "56d2af8e-7ee7-4248-ce7a-3132625c61b1"
   },
   "outputs": [],
   "source": [
    "trade.head()"
   ]
  },
  {
   "cell_type": "code",
   "execution_count": null,
   "metadata": {
    "colab": {
     "base_uri": "https://localhost:8080/"
    },
    "id": "eLOnL5eYh1jR",
    "outputId": "d31d2209-05ef-41df-fd8f-ee081d427949"
   },
   "outputs": [],
   "source": [
    "trained_moedl = trained_sac\n",
    "df_account_value, df_actions = DRLAgent.DRL_prediction(\n",
    "    model=trained_moedl, \n",
    "    environment = e_trade_gym)"
   ]
  },
  {
   "cell_type": "code",
   "execution_count": null,
   "metadata": {
    "colab": {
     "base_uri": "https://localhost:8080/"
    },
    "id": "ERxw3KqLkcP4",
    "outputId": "780c7269-0139-42e0-8ad6-081fd93717bf"
   },
   "outputs": [],
   "source": [
    "df_account_value.shape"
   ]
  },
  {
   "cell_type": "code",
   "execution_count": null,
   "metadata": {
    "colab": {
     "base_uri": "https://localhost:8080/",
     "height": 206
    },
    "id": "2yRkNguY5yvp",
    "outputId": "13f1ace3-c343-4bee-e0c1-214b2f8a1372"
   },
   "outputs": [],
   "source": [
    "df_account_value.tail()"
   ]
  },
  {
   "cell_type": "code",
   "execution_count": null,
   "metadata": {
    "colab": {
     "base_uri": "https://localhost:8080/",
     "height": 267
    },
    "id": "nFlK5hNbWVFk",
    "outputId": "a635843e-7732-47ce-8044-9c87a33de736"
   },
   "outputs": [],
   "source": [
    "df_actions.head()"
   ]
  },
  {
   "cell_type": "markdown",
   "metadata": {
    "id": "W6vvNSC6h1jZ"
   },
   "source": [
    "<a id='6'></a>\n",
    "# Part 7: Backtesting Results\n",
    "Backtesting plays a key role in evaluating the performance of a trading strategy. Automated backtesting tool is preferred because it reduces the human error. We usually use the Quantopian pyfolio package to backtest our trading strategies. It is easy to use and consists of various individual plots that provide a comprehensive image of the performance of a trading strategy."
   ]
  },
  {
   "cell_type": "markdown",
   "metadata": {
    "id": "Lr2zX7ZxNyFQ"
   },
   "source": [
    "<a id='6.1'></a>\n",
    "## 7.1 BackTestStats\n",
    "pass in df_account_value, this information is stored in env class\n"
   ]
  },
  {
   "cell_type": "code",
   "execution_count": null,
   "metadata": {
    "colab": {
     "base_uri": "https://localhost:8080/"
    },
    "id": "Nzkr9yv-AdV_",
    "outputId": "216032a2-5566-4dba-db83-7d7d880b1e88"
   },
   "outputs": [],
   "source": [
    "print(\"==============Get Backtest Results===========\")\n",
    "now = datetime.datetime.now().strftime('%Y%m%d-%Hh%M')\n",
    "\n",
    "perf_stats_all = backtest_stats(account_value=df_account_value)\n",
    "perf_stats_all = pd.DataFrame(perf_stats_all)\n",
    "perf_stats_all.to_csv(\"./\"+RESULTS_DIR+\"/perf_stats_all_\"+now+'.csv')"
   ]
  },
  {
   "cell_type": "code",
   "execution_count": null,
   "metadata": {
    "colab": {
     "base_uri": "https://localhost:8080/"
    },
    "id": "QkV-LB66iwhD",
    "outputId": "7231e720-1598-45ac-ff49-9f8d29f296fa"
   },
   "outputs": [],
   "source": [
    "#baseline stats\n",
    "print(\"==============Get Baseline Stats===========\")\n",
    "baseline_df = get_baseline(\n",
    "        ticker=\"^DJI\", \n",
    "        start = df_account_value.loc[0,'date'],\n",
    "        end = df_account_value.loc[len(df_account_value)-1,'date'])\n",
    "\n",
    "stats = backtest_stats(baseline_df, value_col_name = 'close')\n"
   ]
  },
  {
   "cell_type": "code",
   "execution_count": null,
   "metadata": {
    "colab": {
     "base_uri": "https://localhost:8080/",
     "height": 35
    },
    "id": "qg1kvfemrrQH",
    "outputId": "fc34eb83-c616-42b3-98c7-8f8318644061"
   },
   "outputs": [],
   "source": [
    "df_account_value.loc[0,'date']"
   ]
  },
  {
   "cell_type": "code",
   "execution_count": null,
   "metadata": {
    "colab": {
     "base_uri": "https://localhost:8080/",
     "height": 35
    },
    "id": "tt1bzL5OrsTa",
    "outputId": "59ed1fd0-5a77-40e2-8def-229148fec9db"
   },
   "outputs": [],
   "source": [
    "df_account_value.loc[len(df_account_value)-1,'date']"
   ]
  },
  {
   "cell_type": "markdown",
   "metadata": {
    "id": "9U6Suru3h1jc"
   },
   "source": [
    "<a id='6.2'></a>\n",
    "## 7.2 BackTestPlot"
   ]
  },
  {
   "cell_type": "code",
   "execution_count": null,
   "metadata": {
    "colab": {
     "base_uri": "https://localhost:8080/",
     "height": 1000
    },
    "id": "lKRGftSS7pNM",
    "outputId": "db260938-69a7-4417-fed7-25679d43b0f6"
   },
   "outputs": [],
   "source": [
    "print(\"==============Compare to DJIA===========\")\n",
    "%matplotlib inline\n",
    "# S&P 500: ^GSPC\n",
    "# Dow Jones Index: ^DJI\n",
    "# NASDAQ 100: ^NDX\n",
    "backtest_plot(df_account_value, \n",
    "             baseline_ticker = '^DJI',\n",
    "             baseline_start = df_account_value.loc[0,'date'],\n",
    "             baseline_end = df_account_value.loc[len(df_account_value)-1,'date'])"
   ]
  },
  {
   "cell_type": "code",
   "execution_count": null,
   "outputs": [],
   "source": [],
   "metadata": {
    "collapsed": false
   }
  }
 ],
 "metadata": {
  "colab": {
   "collapsed_sections": [
    "_gDkU-j-fCmZ",
    "3Zpv4S0-fDBv"
   ],
   "name": "Stock_NeurIPS2018.ipynb",
   "provenance": []
  },
  "kernelspec": {
   "display_name": "Python 3",
   "language": "python",
   "name": "python3"
  },
  "language_info": {
   "codemirror_mode": {
    "name": "ipython",
    "version": 3
   },
   "file_extension": ".py",
   "mimetype": "text/x-python",
   "name": "python",
   "nbconvert_exporter": "python",
   "pygments_lexer": "ipython3",
   "version": "3.8.5"
  }
 },
 "nbformat": 4,
 "nbformat_minor": 0
}
